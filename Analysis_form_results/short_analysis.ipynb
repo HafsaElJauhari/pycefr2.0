{
 "cells": [
  {
   "cell_type": "code",
   "execution_count": 85,
   "metadata": {},
   "outputs": [],
   "source": [
    "import pandas as pd\n",
    "import numpy as np\n",
    "\n",
    "# Variable xlsx file\n",
    "xlsx_file = 'Short_Evaluation/Evaluation of Python levels (short version) (respuestas).xlsx'\n",
    "\n",
    "# Variable csv file\n",
    "csv_file = 'Short_Evaluation/Evaluation_python_short.csv'\n",
    "\n",
    "# Get csv file\n",
    "read_file = pd.read_excel (xlsx_file)\n",
    "read_file.to_csv (csv_file, index = None, header=True)\n",
    "\n",
    "# Read csv file\n",
    "reader = pd.read_csv(csv_file)\n",
    "\n",
    "# Create array to levels\n",
    "levels = [['Class Element', 'Level']]\n"
   ]
  },
  {
   "cell_type": "code",
   "execution_count": 86,
   "metadata": {},
   "outputs": [
    {
     "name": "stdout",
     "output_type": "stream",
     "text": [
      "\n",
      "The predominant use of Python is: At university\n"
     ]
    }
   ],
   "source": [
    "from collections import Counter\n",
    "\n",
    "# Save the answer using Python\n",
    "res_using = reader.iloc[:, 2].to_list()\n",
    "# print(res_using)\n",
    "\n",
    "# Calculating the most common\n",
    "user_using_python = Counter(res_using).most_common()[0][0]\n",
    "print('\\nThe predominant use of Python is: ' + user_using_python)"
   ]
  },
  {
   "cell_type": "code",
   "execution_count": 87,
   "metadata": {},
   "outputs": [
    {
     "name": "stdout",
     "output_type": "stream",
     "text": [
      "User with A1 level: 5\n",
      "User with A2 level: 3\n",
      "User with B1 level: 11\n",
      "User with B2 level: 12\n",
      "User with C1 level: 8\n",
      "User with C2 level: 2\n",
      "\n",
      "The predominant level of users is: B2 - Vantage or upper intermediate\n"
     ]
    }
   ],
   "source": [
    "# Save the answer level Python\n",
    "res_level = reader.iloc[:, 3].to_list()\n",
    "#print(res_level)\n",
    "\n",
    "# Counting repetitions of each level\n",
    "level_A1, level_A2, level_B1, level_B2, level_C1, level_C2 = 0, 0, 0, 0, 0, 0\n",
    "for elem in res_level:\n",
    "    # print(elem)\n",
    "    if 'A1' in str(elem):\n",
    "        level_A1 += 1\n",
    "    elif 'A2' in str(elem):\n",
    "        level_A2 += 1\n",
    "    elif 'B1' in str(elem):\n",
    "        level_B1 += 1\n",
    "    elif 'B2' in str(elem):\n",
    "        level_B2 += 1\n",
    "    elif 'C1' in str(elem):\n",
    "        level_C1 += 1\n",
    "    else:\n",
    "        level_C2 += 1\n",
    "        \n",
    "# Show the level and its quantity\n",
    "print('User with A1 level: ' + str(level_A1))\n",
    "print('User with A2 level: ' + str(level_A2))\n",
    "print('User with B1 level: ' + str(level_B1))\n",
    "print('User with B2 level: ' + str(level_B2))\n",
    "print('User with C1 level: ' + str(level_C1))\n",
    "print('User with C2 level: ' + str(level_C2))\n",
    "\n",
    "# Calculating the most common\n",
    "user_level = Counter(res_level).most_common()[0][0]\n",
    "print('\\nThe predominant level of users is: ' + user_level)\n",
    "\n"
   ]
  },
  {
   "cell_type": "code",
   "execution_count": 88,
   "metadata": {},
   "outputs": [],
   "source": [
    "# Save the answer level languages\n",
    "res_languages = reader.iloc[:,4:13]\n",
    "# print(res_languages)"
   ]
  },
  {
   "cell_type": "code",
   "execution_count": 89,
   "metadata": {},
   "outputs": [
    {
     "name": "stdout",
     "output_type": "stream",
     "text": [
      "\n",
      "Level of 'Simple Dictionary' is: A1\n"
     ]
    }
   ],
   "source": [
    "\"\"\" Level Simple Dictionary. \"\"\"\n",
    "simple_dict = reader.iloc[:, 15].to_list()\n",
    "#print(simple_dict)\n",
    "\n",
    "# Calculating the most common\n",
    "level_simple_dict = Counter(simple_dict).most_common()[0][0]\n",
    "print(\"\\nLevel of 'Simple Dictionary' is: \" + level_simple_dict)\n",
    "\n",
    "# Save in array\n",
    "levels.append(['Simple Dictionary', level_simple_dict])"
   ]
  },
  {
   "cell_type": "code",
   "execution_count": 90,
   "metadata": {},
   "outputs": [
    {
     "name": "stdout",
     "output_type": "stream",
     "text": [
      "\n",
      "Level of 'Nested Dictionary' is: B1\n"
     ]
    }
   ],
   "source": [
    "\"\"\" Level Nested Dictionary. \"\"\"\n",
    "nested_dict = reader.iloc[:, 16].to_list()\n",
    "#print(level_nested_dict)\n",
    "\n",
    "# Calculating the most common\n",
    "level_nested_dict = Counter(nested_dict).most_common()[0][0]\n",
    "print(\"\\nLevel of 'Nested Dictionary' is: \" + level_nested_dict)\n",
    "\n",
    "# Save in array\n",
    "levels.append(['Nested Dictionary', level_nested_dict])"
   ]
  },
  {
   "cell_type": "code",
   "execution_count": 91,
   "metadata": {},
   "outputs": [
    {
     "name": "stdout",
     "output_type": "stream",
     "text": [
      "\n",
      "Level of 'Simple List Comprehension' is: B1\n"
     ]
    }
   ],
   "source": [
    "\"\"\" Simple List Comprehension. \"\"\"\n",
    "simple_list_compre = reader.iloc[:, 17].to_list()\n",
    "#print(simple_list_compre)\n",
    "\n",
    "# Calculating the most common\n",
    "level_simple_list_compre = Counter(simple_list_compre).most_common()[0][0]\n",
    "print(\"\\nLevel of 'Simple List Comprehension' is: \" + level_simple_list_compre)\n",
    "\n",
    "# Save in array\n",
    "levels.append(['Simple List Comprehension', level_simple_list_compre])"
   ]
  },
  {
   "cell_type": "code",
   "execution_count": 92,
   "metadata": {},
   "outputs": [
    {
     "name": "stdout",
     "output_type": "stream",
     "text": [
      "\n",
      "Level of 'Files -->  'open' call function' is: A2\n"
     ]
    }
   ],
   "source": [
    "\"\"\" Files -->  'open' call function. \"\"\"\n",
    "open_call = reader.iloc[:, 18].to_list()\n",
    "#print(open_call)\n",
    "\n",
    "# Calculating the most common\n",
    "level_open_call = Counter(open_call).most_common()[0][0]\n",
    "print(\"\\nLevel of 'Files -->  'open' call function' is: \" + level_open_call)\n",
    "\n",
    "# Save in array\n",
    "levels.append([\"Files -->  'open' call function\", level_open_call])"
   ]
  },
  {
   "cell_type": "code",
   "execution_count": 93,
   "metadata": {},
   "outputs": [
    {
     "name": "stdout",
     "output_type": "stream",
     "text": [
      "\n",
      "Level of 'Simple If statements' is: A1\n"
     ]
    }
   ],
   "source": [
    "\"\"\" Simple If statements. \"\"\"\n",
    "simple_if = reader.iloc[:, 19].to_list()\n",
    "#print(simple_if)\n",
    "\n",
    "# Calculating the most common\n",
    "level_simple_if = Counter(simple_if).most_common()[0][0]\n",
    "print(\"\\nLevel of 'Simple If statements' is: \" + level_simple_if)\n",
    "\n",
    "# Save in array\n",
    "levels.append([\"Simple If statements\", level_simple_if])"
   ]
  },
  {
   "cell_type": "code",
   "execution_count": 94,
   "metadata": {},
   "outputs": [
    {
     "name": "stdout",
     "output_type": "stream",
     "text": [
      "\n",
      "Level of 'If statements using → __name__ == ‘__main__’' is: B2\n"
     ]
    }
   ],
   "source": [
    "\"\"\" If statements using → __name__ == ‘__main__’. \"\"\"\n",
    "if_name = reader.iloc[:, 20].to_list()\n",
    "#print(if_name)\n",
    "\n",
    "# Calculating the most common\n",
    "level_if_name = Counter(if_name).most_common()[0][0]\n",
    "print(\"\\nLevel of 'If statements using → __name__ == ‘__main__’' is: \" + level_if_name)\n",
    "\n",
    "# Save in array\n",
    "levels.append([\"If statements using → __name__ == ‘__main__’\", level_if_name])"
   ]
  },
  {
   "cell_type": "code",
   "execution_count": 95,
   "metadata": {},
   "outputs": [
    {
     "name": "stdout",
     "output_type": "stream",
     "text": [
      "\n",
      "Level of ''break' statement' is: A1\n"
     ]
    }
   ],
   "source": [
    "\"\"\" 'break' statement. \"\"\"\n",
    "break_stat = reader.iloc[:, 21].to_list()\n",
    "#print(break_stat)\n",
    "\n",
    "# Calculating the most common\n",
    "level_break_stat = Counter(break_stat).most_common()[0][0]\n",
    "print(\"\\nLevel of ''break' statement' is: \" + level_break_stat)\n",
    "\n",
    "# Save in array\n",
    "levels.append([\"'break' statement\", level_break_stat])"
   ]
  },
  {
   "cell_type": "code",
   "execution_count": 96,
   "metadata": {},
   "outputs": [
    {
     "name": "stdout",
     "output_type": "stream",
     "text": [
      "\n",
      "Level of 'Simple While Loop' is: A1\n"
     ]
    }
   ],
   "source": [
    "\"\"\" Simple While Loop. \"\"\"\n",
    "simple_while = reader.iloc[:, 22].to_list()\n",
    "#print(simple_while)\n",
    "\n",
    "# Calculating the most common\n",
    "level_simple_while = Counter(simple_while).most_common()[0][0]\n",
    "print(\"\\nLevel of 'Simple While Loop' is: \" + level_simple_while)\n",
    "\n",
    "# Save in array\n",
    "levels.append([\"Simple While Loop\", level_simple_while])"
   ]
  },
  {
   "cell_type": "code",
   "execution_count": 97,
   "metadata": {},
   "outputs": [
    {
     "name": "stdout",
     "output_type": "stream",
     "text": [
      "\n",
      "Level of 'Simple For Loop' is: A1\n"
     ]
    }
   ],
   "source": [
    "\"\"\" Simple For Loop. \"\"\"\n",
    "simple_for = reader.iloc[:, 23].to_list()\n",
    "#print(simple_for)\n",
    "\n",
    "# Calculating the most common\n",
    "level_simple_for = Counter(simple_for).most_common()[0][0]\n",
    "print(\"\\nLevel of 'Simple For Loop' is: \" + level_simple_for)\n",
    "\n",
    "# Save in array\n",
    "levels.append([\"Simple For Loop\", level_simple_for])"
   ]
  },
  {
   "cell_type": "code",
   "execution_count": 98,
   "metadata": {},
   "outputs": [
    {
     "name": "stdout",
     "output_type": "stream",
     "text": [
      "\n",
      "Level of ''range' call function' is: A2\n"
     ]
    }
   ],
   "source": [
    "\"\"\"'range' call function. \"\"\"\n",
    "range_call = reader.iloc[:, 24].to_list()\n",
    "#print(range_call)\n",
    "\n",
    "# Calculating the most common\n",
    "level_range_call = Counter(range_call).most_common()[0][0]\n",
    "print(\"\\nLevel of ''range' call function' is: \" + level_range_call)\n",
    "\n",
    "# Save in array\n",
    "levels.append([\"'range' call function\", level_range_call])"
   ]
  },
  {
   "cell_type": "code",
   "execution_count": 99,
   "metadata": {},
   "outputs": [
    {
     "name": "stdout",
     "output_type": "stream",
     "text": [
      "\n",
      "Level of ''zip' call function' is: A2\n"
     ]
    }
   ],
   "source": [
    "\"\"\" 'zip' call function. \"\"\"\n",
    "zip_call = reader.iloc[:, 25].to_list()\n",
    "#print(zip_call)\n",
    "\n",
    "# Calculating the most common\n",
    "level_zip_call = Counter(zip_call).most_common()[0][0]\n",
    "print(\"\\nLevel of ''zip' call function' is: \" + level_zip_call)\n",
    "\n",
    "# Save in array\n",
    "levels.append([\"'zip' call function\", level_zip_call])"
   ]
  },
  {
   "cell_type": "code",
   "execution_count": 100,
   "metadata": {},
   "outputs": [
    {
     "name": "stdout",
     "output_type": "stream",
     "text": [
      "\n",
      "Level of 'Function with simple argument(s)' is: A1\n"
     ]
    }
   ],
   "source": [
    "\"\"\" Function with simple argument(s). \"\"\"\n",
    "funct_simple_arg = reader.iloc[:, 26].to_list()\n",
    "#print(funct_simple_arg)\n",
    "\n",
    "# Calculating the most common\n",
    "level_funct_simple_arg = Counter(funct_simple_arg).most_common()[0][0]\n",
    "print(\"\\nLevel of 'Function with simple argument(s)' is: \" + level_funct_simple_arg)\n",
    "\n",
    "# Save in array\n",
    "levels.append([\"Function with simple argument(s)\", level_funct_simple_arg])"
   ]
  },
  {
   "cell_type": "code",
   "execution_count": 101,
   "metadata": {},
   "outputs": [
    {
     "name": "stdout",
     "output_type": "stream",
     "text": [
      "\n",
      "Level of 'Function with * argument' is: B1\n"
     ]
    }
   ],
   "source": [
    "\"\"\" Function with * argument. \"\"\"\n",
    "funct_ver_arg = reader.iloc[:, 27].to_list()\n",
    "#print(funct_ver_arg)\n",
    "\n",
    "# Calculating the most common\n",
    "level_funct_ver_arg = Counter(funct_ver_arg).most_common()[0][0]\n",
    "print(\"\\nLevel of 'Function with * argument' is: \" + level_funct_ver_arg)\n",
    "\n",
    "# Save in array\n",
    "levels.append([\"Function with * argument\", level_funct_ver_arg])"
   ]
  },
  {
   "cell_type": "code",
   "execution_count": 102,
   "metadata": {},
   "outputs": [
    {
     "name": "stdout",
     "output_type": "stream",
     "text": [
      "\n",
      "Level of 'Recursive Functions' is: A2\n"
     ]
    }
   ],
   "source": [
    "\"\"\" Recursive Functions. \"\"\"\n",
    "recur_funct = reader.iloc[:, 28].to_list()\n",
    "#print(recur_funct)\n",
    "\n",
    "# Calculating the most common\n",
    "level_recur_funct = Counter(recur_funct).most_common()[0][0]\n",
    "print(\"\\nLevel of 'Recursive Functions' is: \" + level_recur_funct)\n",
    "\n",
    "# Save in array\n",
    "levels.append([\"Recursive Functions\", level_recur_funct])"
   ]
  },
  {
   "cell_type": "code",
   "execution_count": 103,
   "metadata": {},
   "outputs": [
    {
     "name": "stdout",
     "output_type": "stream",
     "text": [
      "\n",
      "Level of 'Lambda' is: B1\n"
     ]
    }
   ],
   "source": [
    "\"\"\" Lambda. \"\"\"\n",
    "lambda_call = reader.iloc[:, 29].to_list()\n",
    "#print(lambda_call)\n",
    "\n",
    "# Calculating the most common\n",
    "level_lambda_call = Counter(lambda_call).most_common()[0][0]\n",
    "print(\"\\nLevel of 'Lambda' is: \" + level_lambda_call)\n",
    "\n",
    "# Save in array\n",
    "levels.append([\"Lambda\", level_lambda_call])"
   ]
  },
  {
   "cell_type": "code",
   "execution_count": 104,
   "metadata": {},
   "outputs": [
    {
     "name": "stdout",
     "output_type": "stream",
     "text": [
      "\n",
      "Level of 'Print' is: A1\n"
     ]
    }
   ],
   "source": [
    "\"\"\" Print. \"\"\"\n",
    "print_call = reader.iloc[:, 30].to_list()\n",
    "#print(print_call)\n",
    "\n",
    "# Calculating the most common\n",
    "level_print_call = Counter(print_call).most_common()[0][0]\n",
    "print(\"\\nLevel of 'Print' is: \" + level_print_call)\n",
    "\n",
    "# Save in array\n",
    "levels.append([\"Print\", level_print_call])"
   ]
  },
  {
   "cell_type": "code",
   "execution_count": 105,
   "metadata": {},
   "outputs": [
    {
     "name": "stdout",
     "output_type": "stream",
     "text": [
      "\n",
      "Level of 'Generator Functions (yield)' is: C1\n"
     ]
    }
   ],
   "source": [
    "\"\"\" Generator Functions (yield). \"\"\"\n",
    "gene_funct = reader.iloc[:, 31].to_list()\n",
    "#print(gene_funct)\n",
    "\n",
    "# Calculating the most common\n",
    "level_gene_funct = Counter(gene_funct).most_common()[0][0]\n",
    "print(\"\\nLevel of 'Generator Functions (yield)' is: \" + level_gene_funct)\n",
    "\n",
    "# Save in array\n",
    "levels.append([\"Generator Functions (yield)\", level_gene_funct])"
   ]
  },
  {
   "cell_type": "code",
   "execution_count": 106,
   "metadata": {},
   "outputs": [
    {
     "name": "stdout",
     "output_type": "stream",
     "text": [
      "\n",
      "Level of 'Generator Expressions' is: B2\n"
     ]
    }
   ],
   "source": [
    "\"\"\" Generator Expressions. \"\"\"\n",
    "gene_expr = reader.iloc[:, 32].to_list()\n",
    "#print(gene_expr)\n",
    "\n",
    "# Calculating the most common\n",
    "level_gene_expr = Counter(gene_expr).most_common()[0][0]\n",
    "print(\"\\nLevel of 'Generator Expressions' is: \" + level_gene_expr)\n",
    "\n",
    "# Save in array\n",
    "levels.append([\"Generator Expressions\", level_gene_expr])"
   ]
  },
  {
   "cell_type": "code",
   "execution_count": 107,
   "metadata": {},
   "outputs": [
    {
     "name": "stdout",
     "output_type": "stream",
     "text": [
      "\n",
      "Level of 'Import' is: A1\n"
     ]
    }
   ],
   "source": [
    "\"\"\" Import. \"\"\"\n",
    "import_stat = reader.iloc[:, 33].to_list()\n",
    "#print(import_stat)\n",
    "\n",
    "# Calculating the most common\n",
    "level_import_stat = Counter(import_stat).most_common()[0][0]\n",
    "print(\"\\nLevel of 'Import' is: \" + level_import_stat)\n",
    "\n",
    "# Save in array\n",
    "levels.append([\"Import\", level_import_stat])"
   ]
  },
  {
   "cell_type": "code",
   "execution_count": 108,
   "metadata": {},
   "outputs": [
    {
     "name": "stdout",
     "output_type": "stream",
     "text": [
      "\n",
      "Level of 'From' is: A1\n"
     ]
    }
   ],
   "source": [
    "\"\"\" From. \"\"\"\n",
    "from_stat = reader.iloc[:, 34].to_list()\n",
    "#print(from_stat)\n",
    "\n",
    "# Calculating the most common\n",
    "level_from_stat = Counter(from_stat).most_common()[0][0]\n",
    "print(\"\\nLevel of 'From' is: \" + level_from_stat)\n",
    "\n",
    "# Save in array\n",
    "levels.append([\"From\", level_from_stat])"
   ]
  },
  {
   "cell_type": "code",
   "execution_count": 109,
   "metadata": {},
   "outputs": [
    {
     "name": "stdout",
     "output_type": "stream",
     "text": [
      "\n",
      "Level of ''as' extension' is: A1\n"
     ]
    }
   ],
   "source": [
    "\"\"\" 'as' extension. \"\"\"\n",
    "as_ext = reader.iloc[:, 35].to_list()\n",
    "#print(as_ext)\n",
    "\n",
    "# Calculating the most common\n",
    "level_as_ext = Counter(as_ext).most_common()[0][0]\n",
    "print(\"\\nLevel of ''as' extension' is: \" + level_as_ext)\n",
    "\n",
    "# Save in array\n",
    "levels.append([\"'as' extension\", level_as_ext])"
   ]
  },
  {
   "cell_type": "code",
   "execution_count": 110,
   "metadata": {},
   "outputs": [
    {
     "name": "stdout",
     "output_type": "stream",
     "text": [
      "\n",
      "Level of 'Simple Class' is: B1\n"
     ]
    }
   ],
   "source": [
    "\"\"\" Simple Class. \"\"\"\n",
    "simple_class = reader.iloc[:, 36].to_list()\n",
    "#print(simple_class)\n",
    "\n",
    "# Calculating the most common\n",
    "level_simple_class = Counter(simple_class).most_common()[0][0]\n",
    "print(\"\\nLevel of 'Simple Class' is: \" + level_simple_class)\n",
    "\n",
    "# Save in array\n",
    "levels.append([\"Simple Class\", level_simple_class])"
   ]
  },
  {
   "cell_type": "code",
   "execution_count": 111,
   "metadata": {},
   "outputs": [
    {
     "name": "stdout",
     "output_type": "stream",
     "text": [
      "\n",
      "Level of 'Using the constructor method --> __init__' is: A1\n"
     ]
    }
   ],
   "source": [
    "\"\"\" Using the constructor method --> __init__. \"\"\"\n",
    "const_method = reader.iloc[:, 37].to_list()\n",
    "#print(const_method)\n",
    "\n",
    "# Calculating the most common\n",
    "level_const_method = Counter(const_method).most_common()[0][0]\n",
    "print(\"\\nLevel of 'Using the constructor method --> __init__' is: \" + level_const_method)\n",
    "\n",
    "# Save in array\n",
    "levels.append([\"Using the constructor method --> __init__\", level_const_method])"
   ]
  },
  {
   "cell_type": "code",
   "execution_count": 112,
   "metadata": {},
   "outputs": [
    {
     "name": "stdout",
     "output_type": "stream",
     "text": [
      "\n",
      "Level of 'Variadic generics' is: Don't know\n"
     ]
    }
   ],
   "source": [
    "\"\"\" Variadic generics. \"\"\"\n",
    "variadic_gen = reader.iloc[:, 38].to_list()\n",
    "#print(variadic_gen)\n",
    "\n",
    "# Calculating the most common\n",
    "level_variadic_gen = Counter(variadic_gen).most_common()[0][0]\n",
    "print(\"\\nLevel of 'Variadic generics' is: \" + level_variadic_gen)\n",
    "\n",
    "# Save in array\n",
    "levels.append([\"Variadic generics\", level_variadic_gen])"
   ]
  },
  {
   "cell_type": "code",
   "execution_count": 113,
   "metadata": {},
   "outputs": [
    {
     "name": "stdout",
     "output_type": "stream",
     "text": [
      "\n",
      "Level of 'Descriptors' is: Don't know\n"
     ]
    }
   ],
   "source": [
    "\"\"\" Descriptors. \"\"\"\n",
    "descrip = reader.iloc[:, 39].to_list()\n",
    "#print(descrip)\n",
    "\n",
    "# Calculating the most common\n",
    "level_descrip = Counter(descrip).most_common()[0][0]\n",
    "print(\"\\nLevel of 'Descriptors' is: \" + level_descrip)\n",
    "\n",
    "# Save in array\n",
    "levels.append([\"Descriptors\", level_descrip])"
   ]
  },
  {
   "cell_type": "code",
   "execution_count": 114,
   "metadata": {},
   "outputs": [
    {
     "name": "stdout",
     "output_type": "stream",
     "text": [
      "\n",
      "Level of 'Class Properties' is: A2\n"
     ]
    }
   ],
   "source": [
    "\"\"\" Class Properties. \"\"\"\n",
    "proper = reader.iloc[:, 40].to_list()\n",
    "#print(proper)\n",
    "\n",
    "# Calculating the most common\n",
    "level_proper = Counter(proper).most_common()[0][0]\n",
    "print(\"\\nLevel of 'Class Properties' is: \" + level_proper)\n",
    "\n",
    "# Save in array\n",
    "levels.append([\"Class Properties\", level_proper])"
   ]
  },
  {
   "cell_type": "code",
   "execution_count": 115,
   "metadata": {},
   "outputs": [
    {
     "name": "stdout",
     "output_type": "stream",
     "text": [
      "\n",
      "Level of 'Private Methods or Attributes of the class' is: B1\n"
     ]
    }
   ],
   "source": [
    "\"\"\" Private Methods or Attributes of the class. \"\"\"\n",
    "private_class = reader.iloc[:, 41].to_list()\n",
    "#print(private_class)\n",
    "\n",
    "# Calculating the most common\n",
    "level_private_class = Counter(private_class).most_common()[0][0]\n",
    "print(\"\\nLevel of 'Private Methods or Attributes of the class' is: \" + level_private_class)\n",
    "\n",
    "# Save in array\n",
    "levels.append([\"Private Methods or Attributes of the class\", level_private_class])"
   ]
  },
  {
   "cell_type": "code",
   "execution_count": 116,
   "metadata": {},
   "outputs": [
    {
     "name": "stdout",
     "output_type": "stream",
     "text": [
      "\n",
      "Level of 'Decorator Function' is: B2\n"
     ]
    }
   ],
   "source": [
    "\"\"\" Decorator Function. \"\"\"\n",
    "decora_funct = reader.iloc[:, 42].to_list()\n",
    "#print(decora_funct)\n",
    "\n",
    "# Calculating the most common\n",
    "level_decora_funct = Counter(decora_funct).most_common()[0][0]\n",
    "print(\"\\nLevel of 'Decorator Function' is: \" + level_decora_funct)\n",
    "\n",
    "# Save in array\n",
    "levels.append([\"Decorator Function\", level_decora_funct])"
   ]
  },
  {
   "cell_type": "code",
   "execution_count": 117,
   "metadata": {},
   "outputs": [
    {
     "name": "stdout",
     "output_type": "stream",
     "text": [
      "\n",
      "Level of 'Decorator Class' is: Don't know\n"
     ]
    }
   ],
   "source": [
    "\"\"\" Decorator Class. \"\"\"\n",
    "decora_class = reader.iloc[:, 43].to_list()\n",
    "#print(decora_class)\n",
    "\n",
    "# Calculating the most common\n",
    "level_decora_class = Counter(decora_class).most_common()[0][0]\n",
    "print(\"\\nLevel of 'Decorator Class' is: \" + level_decora_class)\n",
    "\n",
    "# Save in array\n",
    "levels.append([\"Decorator Class\", level_decora_class])"
   ]
  },
  {
   "cell_type": "code",
   "execution_count": 118,
   "metadata": {},
   "outputs": [
    {
     "name": "stdout",
     "output_type": "stream",
     "text": [
      "\n",
      "Level of 'Static Method' is: B2\n"
     ]
    }
   ],
   "source": [
    "\"\"\" Static Method. \"\"\"\n",
    "static_method = reader.iloc[:, 44].to_list()\n",
    "#print(static_method)\n",
    "\n",
    "# Calculating the most common\n",
    "level_static_method = Counter(static_method).most_common()[0][0]\n",
    "print(\"\\nLevel of 'Static Method' is: \" + level_static_method)\n",
    "\n",
    "# Save in array\n",
    "levels.append([\"Static Method\", level_static_method])"
   ]
  },
  {
   "cell_type": "code",
   "execution_count": 119,
   "metadata": {},
   "outputs": [
    {
     "name": "stdout",
     "output_type": "stream",
     "text": [
      "\n",
      "Level of 'Metaclass (3.X) created with --> __new__' is: Don't know\n"
     ]
    }
   ],
   "source": [
    "\"\"\" Metaclass (3.X) created with --> __new__. \"\"\"\n",
    "meta_new = reader.iloc[:, 45].to_list()\n",
    "#print(meta_new)\n",
    "\n",
    "# Calculating the most common\n",
    "level_meta_new = Counter(meta_new).most_common()[0][0]\n",
    "print(\"\\nLevel of 'Metaclass (3.X) created with --> __new__' is: \" + level_meta_new)\n",
    "\n",
    "# Save in array\n",
    "levels.append([\"Metaclass (3.X) created with --> __new__\", level_meta_new])"
   ]
  },
  {
   "cell_type": "code",
   "execution_count": 120,
   "metadata": {},
   "outputs": [
    {
     "name": "stdout",
     "output_type": "stream",
     "text": [
      "\n",
      "Level of 'Super function' is: B2\n"
     ]
    }
   ],
   "source": [
    "\"\"\" Super function. \"\"\"\n",
    "super_funct = reader.iloc[:, 46].to_list()\n",
    "#print(super_funct)\n",
    "\n",
    "# Calculating the most common\n",
    "level_super_funct = Counter(super_funct).most_common()[0][0]\n",
    "print(\"\\nLevel of 'Super function' is: \" + level_super_funct)\n",
    "\n",
    "# Save in array\n",
    "levels.append([\"Super function\", level_super_funct])"
   ]
  },
  {
   "cell_type": "code",
   "execution_count": 121,
   "metadata": {},
   "outputs": [
    {
     "name": "stdout",
     "output_type": "stream",
     "text": [
      "\n",
      "Level of ''try/except' exception' is: A1\n"
     ]
    }
   ],
   "source": [
    "\"\"\" 'try/except' exception. \"\"\"\n",
    "try_excep = reader.iloc[:, 47].to_list()\n",
    "#print(try_excep)\n",
    "\n",
    "# Calculating the most common\n",
    "level_try_excep = Counter(try_excep).most_common()[0][0]\n",
    "print(\"\\nLevel of ''try/except' exception' is: \" + level_try_excep)\n",
    "\n",
    "# Save in array\n",
    "levels.append([\"'try/except' exception\", level_try_excep])"
   ]
  },
  {
   "cell_type": "code",
   "execution_count": 122,
   "metadata": {},
   "outputs": [
    {
     "name": "stdout",
     "output_type": "stream",
     "text": [
      "\n",
      "Level of ''raise' exception' is: B1\n"
     ]
    }
   ],
   "source": [
    "\"\"\" ‘raise’ exception. \"\"\"\n",
    "raise_excep = reader.iloc[:, 48].to_list()\n",
    "#print(raise_excep)\n",
    "\n",
    "# Calculating the most common\n",
    "level_raise_excep = Counter(raise_excep).most_common()[0][0]\n",
    "print(\"\\nLevel of ''raise' exception' is: \" + level_raise_excep)\n",
    "\n",
    "# Save in array\n",
    "levels.append([\"‘raise’ exception\", level_raise_excep])"
   ]
  },
  {
   "cell_type": "code",
   "execution_count": 123,
   "metadata": {},
   "outputs": [
    {
     "name": "stdout",
     "output_type": "stream",
     "text": [
      "\n",
      "Level of ''assert' exception' is: Don't know\n"
     ]
    }
   ],
   "source": [
    "\"\"\" 'assert' exception. \"\"\"\n",
    "assert_excep = reader.iloc[:, 49].to_list()\n",
    "#print(assert_excep)\n",
    "\n",
    "# Calculating the most common\n",
    "level_assert_excep = Counter(assert_excep).most_common()[0][0]\n",
    "print(\"\\nLevel of ''assert' exception' is: \" + level_assert_excep)\n",
    "\n",
    "# Save in array\n",
    "levels.append([\"'assert' exception\", level_assert_excep])"
   ]
  },
  {
   "cell_type": "code",
   "execution_count": 124,
   "metadata": {},
   "outputs": [
    {
     "name": "stdout",
     "output_type": "stream",
     "text": [
      "\n",
      "Level of ''try/finally' exception' is: A2\n"
     ]
    }
   ],
   "source": [
    "\"\"\" 'try/finally' exception. \"\"\"\n",
    "try_fin_excep = reader.iloc[:, 50].to_list()\n",
    "#print(try_fin_excep)\n",
    "\n",
    "# Calculating the most common\n",
    "level_try_fin_excep = Counter(try_fin_excep).most_common()[0][0]\n",
    "print(\"\\nLevel of ''try/finally' exception' is: \" + level_try_fin_excep)\n",
    "\n",
    "# Save in array\n",
    "levels.append([\"'try/finally' exception\", level_try_fin_excep])"
   ]
  },
  {
   "cell_type": "code",
   "execution_count": 125,
   "metadata": {},
   "outputs": [
    {
     "name": "stdout",
     "output_type": "stream",
     "text": [
      "\n",
      "Level of ' With' is: A2\n"
     ]
    }
   ],
   "source": [
    "\"\"\" With. \"\"\"\n",
    "with_stat = reader.iloc[:, 50].to_list()\n",
    "#print(with_stat)\n",
    "\n",
    "# Calculating the most common\n",
    "level_with_stat = Counter(with_stat).most_common()[0][0]\n",
    "print(\"\\nLevel of ' With' is: \" + level_with_stat)\n",
    "\n",
    "# Save in array\n",
    "levels.append([\"With\", level_with_stat])"
   ]
  },
  {
   "cell_type": "code",
   "execution_count": 126,
   "metadata": {},
   "outputs": [],
   "source": [
    "\"\"\" Create csv file with summary. \"\"\"\n",
    "\n",
    "# convert array into dataframe\n",
    "levels_data = pd.DataFrame(levels)\n",
    "  \n",
    "# save the dataframe as a csv file\n",
    "levels_data.to_csv(\"Short_Evaluation/summary_levels_short.csv\")"
   ]
  },
  {
   "cell_type": "code",
   "execution_count": null,
   "metadata": {},
   "outputs": [],
   "source": []
  },
  {
   "cell_type": "code",
   "execution_count": null,
   "metadata": {},
   "outputs": [],
   "source": []
  },
  {
   "cell_type": "code",
   "execution_count": null,
   "metadata": {},
   "outputs": [],
   "source": []
  },
  {
   "cell_type": "code",
   "execution_count": null,
   "metadata": {},
   "outputs": [],
   "source": []
  },
  {
   "cell_type": "code",
   "execution_count": null,
   "metadata": {},
   "outputs": [],
   "source": []
  }
 ],
 "metadata": {
  "kernelspec": {
   "display_name": "Python 3",
   "language": "python",
   "name": "python3"
  },
  "language_info": {
   "codemirror_mode": {
    "name": "ipython",
    "version": 3
   },
   "file_extension": ".py",
   "mimetype": "text/x-python",
   "name": "python",
   "nbconvert_exporter": "python",
   "pygments_lexer": "ipython3",
   "version": "3.8.5"
  }
 },
 "nbformat": 4,
 "nbformat_minor": 5
}
